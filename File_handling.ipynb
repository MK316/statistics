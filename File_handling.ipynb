{
  "nbformat": 4,
  "nbformat_minor": 0,
  "metadata": {
    "colab": {
      "name": "File_handling.ipynb",
      "provenance": [],
      "authorship_tag": "ABX9TyNOQqKdf5lCh5xAo0BrXwbP",
      "include_colab_link": true
    },
    "kernelspec": {
      "name": "python3",
      "display_name": "Python 3"
    },
    "language_info": {
      "name": "python"
    }
  },
  "cells": [
    {
      "cell_type": "markdown",
      "metadata": {
        "id": "view-in-github",
        "colab_type": "text"
      },
      "source": [
        "<a href=\"https://colab.research.google.com/github/MK316/statistics/blob/main/File_handling.ipynb\" target=\"_parent\"><img src=\"https://colab.research.google.com/assets/colab-badge.svg\" alt=\"Open In Colab\"/></a>"
      ]
    },
    {
      "cell_type": "markdown",
      "source": [
        "# CSV file:\n",
        "- Loading csv file from your computer.\n",
        "On the left panel, Files > upload a file\n",
        "[see screen image]('https://github.com/MK316/statistics/blob/main/img_Files.png')"
      ],
      "metadata": {
        "id": "ifAo4JNOkdB3"
      }
    },
    {
      "cell_type": "code",
      "source": [
        "# On the left panel, Files > upload a file"
      ],
      "metadata": {
        "id": "m9HY3r_RlxNx"
      },
      "execution_count": null,
      "outputs": []
    },
    {
      "cell_type": "markdown",
      "source": [
        "### [1] csv file\n",
        "Using [pandas] package"
      ],
      "metadata": {
        "id": "6ksFexQ0kjU4"
      }
    },
    {
      "cell_type": "code",
      "execution_count": 1,
      "metadata": {
        "id": "SIbOd4kVkSzN"
      },
      "outputs": [],
      "source": [
        "import pandas as pd"
      ]
    },
    {
      "cell_type": "code",
      "source": [
        ""
      ],
      "metadata": {
        "id": "DoT6Olh7lg7M"
      },
      "execution_count": null,
      "outputs": []
    },
    {
      "cell_type": "markdown",
      "source": [
        "### [2] text file"
      ],
      "metadata": {
        "id": "BUJFISt_k5O0"
      }
    }
  ]
}